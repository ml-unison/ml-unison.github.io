{
 "cells": [
  {
   "cell_type": "markdown",
   "metadata": {},
   "source": [
    "![](lcc.jpg)\n",
    "\n",
    "# Ejemplo de Sezgo y Varianza visto en clase\n",
    "\n",
    "## Reconocimiento de Patrones, 2023-2\n",
    "\n",
    "## Licenciatura en Ciencia de la Computación\n",
    "\n",
    "**Julio Waissman**\n",
    "\n",
    "[Abrir en google Colab](https://colab.research.google.com/github/ml-unison/ml-unison.github.io/blob/main/ejemplos/biasvariance.ipynb)"
   ]
  },
  {
   "cell_type": "code",
   "execution_count": null,
   "metadata": {},
   "outputs": [],
   "source": [
    "import numpy as np\n",
    "import matplotlib.pyplot as plt\n",
    "\n",
    "plt.rcParams['figure.figsize'] = (16,8)\n",
    "plt.style.use('ggplot')"
   ]
  },
  {
   "cell_type": "markdown",
   "metadata": {},
   "source": [
    "Vamos a asumir la función\n",
    "\n",
    "$$\n",
    "f(x) = \\sin(2\\pi x), \\quad x \\in [0, 2\\pi]\n",
    "$$\n",
    "\n",
    "y generar unos 500 puntos para su graficación"
   ]
  },
  {
   "cell_type": "code",
   "execution_count": null,
   "metadata": {},
   "outputs": [],
   "source": [
    "x = np.linspace(0, 2 * np.pi, 500)\n",
    "y = np.sin(x)\n",
    "\n",
    "plt.plot(x, y)\n",
    "plt.title(r\"Función original $f(x) = \\sin(x)$\")\n",
    "plt.xlabel('x')\n",
    "plt.ylabel('f(x)')\n",
    "plt.show()"
   ]
  },
  {
   "cell_type": "markdown",
   "metadata": {},
   "source": [
    "Vamos a hora a calcular dos posibles hipótesis:\n",
    "\n",
    "1. $h_1(x) = a$\n",
    "2. $h_2(x) = mx + b$\n",
    "\n",
    "y vamos a asumir que se obtienen los parametros a partir de un conjunto de datos de entrenamiento con únicamente dos datos\n",
    "\n",
    "$$\n",
    "\\mathcal{D} = \\{(x_1, y_1), (x_2, y_2)\\}.\n",
    "$$\n",
    "\n",
    "\n",
    "Así, de forma óptima los valores ideales de mis parámetros están dads por:\n",
    "\n",
    "$$\n",
    "a^* = \\frac{y_1 + y_2}{2},\n",
    "$$\n",
    "\n",
    "$$\n",
    "m^* = \\frac{y_1 - y_2}{x_1 - x_2},\n",
    "$$\n",
    "\n",
    "$$\n",
    "b^* = y_1 - m^* x_1\n",
    "$$\n",
    "\n",
    "y a partir de ahí vamos a calcular las hipótesis medias."
   ]
  },
  {
   "cell_type": "code",
   "execution_count": null,
   "metadata": {},
   "outputs": [],
   "source": [
    "iteraciones = 10_000\n",
    "\n",
    "h1 = np.zeros((500, iteraciones))\n",
    "h2 = np.zeros((500, iteraciones))\n",
    "\n",
    "for iter in range(iteraciones): \n",
    "    x1 = 2 * np.pi * np.random.rand()\n",
    "    x2 = 2 * np.pi * np.random.rand()\n",
    "    \n",
    "    y1 = np.sin(x1)\n",
    "    y2 = np.sin(x2)\n",
    "    \n",
    "    a = (y1 + y2) / 2\n",
    "    m = (y2 - y1) / (x2 - x1)\n",
    "    b = y1 - m * x1\n",
    "    \n",
    "    h1[:, iter] = np.ones((500,)) * a\n",
    "    h2[:, iter] = m * x + b \n",
    "    \n",
    "h_media_1 = h1.mean(axis=1)\n",
    "h_media_2 = h2.mean(axis=1)\n",
    "\n",
    "plt.plot(x, y, label=\"Original\")\n",
    "plt.plot(x, h_media_1, label=r\"$h_1(x) = a$\")\n",
    "plt.plot(x, h_media_2, label=r\"$h_2(x) = mx +b$\")\n",
    "plt.title(r\"Función original e hipótesis medias\")\n",
    "plt.xlabel('x')\n",
    "plt.ylabel('f(x)')\n",
    "plt.legend()\n",
    "plt.show()\n"
   ]
  },
  {
   "cell_type": "markdown",
   "metadata": {},
   "source": [
    "Ahora vamos a calcular el sesgo "
   ]
  },
  {
   "cell_type": "code",
   "execution_count": null,
   "metadata": {},
   "outputs": [],
   "source": [
    "sesgo_h1 = np.square(y - h_media_1).mean()\n",
    "sesgo_h2 = np.square(y - h_media_2).mean()\n",
    "\n",
    "print(f\"sesgo del modelo h_1 = {sesgo_h1} y del modelo h_2 = {sesgo_h2}\")"
   ]
  },
  {
   "cell_type": "markdown",
   "metadata": {},
   "source": [
    "y la varianza del modelo"
   ]
  },
  {
   "cell_type": "code",
   "execution_count": null,
   "metadata": {},
   "outputs": [],
   "source": [
    "var_h1 = np.var(h1, axis=1).mean()\n",
    "var_h2 = np.var(h2, axis=1).mean()\n",
    "\n",
    "print(f\"Varianza del modelo h_1 = {var_h1} y del modelo h_2 = {var_h2}\")"
   ]
  }
 ],
 "metadata": {
  "kernelspec": {
   "display_name": "Python 3",
   "language": "python",
   "name": "python3"
  },
  "language_info": {
   "codemirror_mode": {
    "name": "ipython",
    "version": 3
   },
   "file_extension": ".py",
   "mimetype": "text/x-python",
   "name": "python",
   "nbconvert_exporter": "python",
   "pygments_lexer": "ipython3",
   "version": "3.8.13"
  }
 },
 "nbformat": 4,
 "nbformat_minor": 4
}
